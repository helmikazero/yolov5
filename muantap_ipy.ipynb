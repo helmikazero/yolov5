{
 "cells": [
  {
   "cell_type": "code",
   "execution_count": 1,
   "metadata": {},
   "outputs": [],
   "source": [
    "import cv2\n",
    "import torch\n",
    "import numpy as np"
   ]
  },
  {
   "cell_type": "code",
   "execution_count": 2,
   "metadata": {},
   "outputs": [
    {
     "name": "stderr",
     "output_type": "stream",
     "text": [
      "YOLOv5  v6.1-222-gb4e823f Python-3.8.12 torch-1.10.0 CUDA:0 (NVIDIA GeForce GTX 1060 6GB, 6144MiB)\n",
      "\n",
      "Fusing layers... \n",
      "Model summary: 213 layers, 7015519 parameters, 0 gradients, 15.8 GFLOPs\n",
      "Adding AutoShape... \n"
     ]
    }
   ],
   "source": [
    "customyolov5s = torch.hub.load('','custom', path='weightHedect/nexgen_hedec_s1.pt', source='local')"
   ]
  },
  {
   "cell_type": "code",
   "execution_count": 3,
   "metadata": {},
   "outputs": [],
   "source": [
    "ori_img = cv2.imread('test_image/test_img_1.jpg')\n",
    "\n",
    "cv2.imshow('This img',ori_img)\n",
    "cv2.waitKey(0)\n",
    "cv2.destroyAllWindows()"
   ]
  },
  {
   "cell_type": "code",
   "execution_count": 4,
   "metadata": {},
   "outputs": [
    {
     "name": "stdout",
     "output_type": "stream",
     "text": [
      "Setup complete. Using torch 1.10.0 (NVIDIA GeForce GTX 1060 6GB)\n",
      "cuda\n"
     ]
    }
   ],
   "source": [
    "device = 'cuda' if torch.cuda.is_available() else 'cpu'\n",
    "print(f\"Setup complete. Using torch {torch.__version__} ({torch.cuda.get_device_properties(0).name if torch.cuda.is_available() else 'CPU'})\")\n",
    "print(device)"
   ]
  },
  {
   "cell_type": "code",
   "execution_count": 5,
   "metadata": {},
   "outputs": [],
   "source": [
    "model = customyolov5s.to(device)"
   ]
  },
  {
   "cell_type": "code",
   "execution_count": 6,
   "metadata": {},
   "outputs": [],
   "source": [
    "img = ori_img\n",
    "results = model(img)"
   ]
  },
  {
   "cell_type": "code",
   "execution_count": 7,
   "metadata": {},
   "outputs": [
    {
     "name": "stdout",
     "output_type": "stream",
     "text": [
      "         xmin        ymin        xmax        ymax  confidence  class     name\n",
      "0  869.907776  135.856628  962.590515  258.334320    0.853695      1     head\n",
      "1  872.061279  133.206192  962.023438  196.929916    0.819372      0  hardhat\n",
      "2  705.453064  167.756943  790.738098  248.270935    0.429588      0  hardhat\n",
      "3  707.362793  167.531113  787.806152  250.057678    0.316106      1     head\n",
      "xmin          707.362793\n",
      "ymin          167.531113\n",
      "xmax          787.806152\n",
      "ymax          250.057678\n",
      "confidence      0.316106\n",
      "class                  1\n",
      "name                head\n",
      "Name: 3, dtype: object\n"
     ]
    }
   ],
   "source": [
    "# print(results.pandas().xyxy[0])\n",
    "\n",
    "presults = results.pandas().xyxy[0]\n",
    "\n",
    "\n",
    "results_cpu = results.xyxyn[0].cpu().numpy()\n",
    "\n",
    "i = 0\n",
    "\n",
    "# print(presults.iloc[:,:-1])\n",
    "\n",
    "print(presults)\n",
    "print(presults.loc[3])\n",
    "\n",
    "\n",
    "# print(results_cpu)"
   ]
  },
  {
   "cell_type": "code",
   "execution_count": 12,
   "metadata": {},
   "outputs": [],
   "source": [
    "def bb_intersection_over_union(presults, nameA,nameB):\n",
    "\tboxA = [presults['xmin'][nameA],presults['ymin'][nameA],presults['xmax'][nameA],presults['ymax'][nameA]]\n",
    "\tboxB = [presults['xmin'][nameB],presults['ymin'][nameB],presults['xmax'][nameB],presults['ymax'][nameB]]\n",
    "\n",
    "\t# determine the (x, y)-coordinates of the intersection rectangle\n",
    "\txA = max(boxA[0], boxB[0])\n",
    "\tyA = max(boxA[1], boxB[1])\n",
    "\txB = min(boxA[2], boxB[2])\n",
    "\tyB = min(boxA[3], boxB[3])\n",
    "\t# compute the area of intersection rectangle\n",
    "\tinterArea = max(0, xB - xA + 1) * max(0, yB - yA + 1)\n",
    "\t# compute the area of both the prediction and ground-truth\n",
    "\t# rectangles\n",
    "\tboxAArea = (boxA[2] - boxA[0] + 1) * (boxA[3] - boxA[1] + 1)\n",
    "\tboxBArea = (boxB[2] - boxB[0] + 1) * (boxB[3] - boxB[1] + 1)\n",
    "\t# compute the intersection over union by taking the intersection\n",
    "\t# area and dividing it by the sum of prediction + ground-truth\n",
    "\t# areas - the interesection area\n",
    "\tiou = interArea / float(boxAArea + boxBArea - interArea)\n",
    "\t# return the intersection over union value\n",
    "\treturn iou"
   ]
  },
  {
   "cell_type": "code",
   "execution_count": 14,
   "metadata": {},
   "outputs": [],
   "source": [
    "def check_helmetWear(presults):\n",
    "    head_list = []\n",
    "    hardhat_list = []\n",
    "    for i in range(len(presults)):\n",
    "        if presults['class'][i] == 0:\n",
    "            hardhat_list.append(i)\n",
    "        elif presults['class'][i] == 1:\n",
    "            head_list.append(i)\n",
    "\n",
    "    for i in range(len(head_list)):\n",
    "        for j in range(len(hardhat_list)):\n",
    "            iou_result = bb_intersection_over_union(presults,head_list[i],hardhat_list[j])\n",
    "            print(iou_result)\n",
    "        \n",
    "    \n",
    "    \n",
    "            "
   ]
  },
  {
   "cell_type": "code",
   "execution_count": 15,
   "metadata": {},
   "outputs": [
    {
     "name": "stdout",
     "output_type": "stream",
     "text": [
      "0.4781444114541731\n",
      "0.0\n",
      "0.0\n",
      "0.9223915611187468\n"
     ]
    }
   ],
   "source": [
    "check_helmetWear(presults)"
   ]
  },
  {
   "cell_type": "code",
   "execution_count": 8,
   "metadata": {},
   "outputs": [],
   "source": [
    "# cv2.rectangle(img, (115,228),(281,415),(0, 255, 0),2)\n",
    "\n",
    "\n",
    "\n",
    "def printTheBoxYEAAAH(img,predresultinpandas):\n",
    "    printed_img = img\n",
    "    for i in range(len(predresultinpandas)):\n",
    "        printed_img = cv2.rectangle(printed_img, (int(predresultinpandas['xmin'][i]),int(predresultinpandas['ymin'][i])),(int(predresultinpandas['xmax'][i]),int(predresultinpandas['ymax'][i])),(0, 255, 0),2)\n",
    "        printed_img = cv2.putText(printed_img,predresultinpandas['name'][i],(int(predresultinpandas['xmin'][i]),int(predresultinpandas['ymin'][i])),cv2.FONT_HERSHEY_SIMPLEX,0.9,(0, 255, 0),2)\n",
    "\n",
    "    return printed_img\n",
    "    \n",
    "\n",
    "\n",
    "printedimg = printTheBoxYEAAAH(img,presults)\n",
    "\n",
    "cv2.imshow('This img',img)\n",
    "cv2.waitKey(0)\n",
    "cv2.destroyAllWindows()"
   ]
  }
 ],
 "metadata": {
  "interpreter": {
   "hash": "777c22cd965573e419f4d2bcfa95e13391369b55f98333d01494e02e3306530a"
  },
  "kernelspec": {
   "display_name": "Python 3.8.12 ('hardhat3')",
   "language": "python",
   "name": "python3"
  },
  "language_info": {
   "codemirror_mode": {
    "name": "ipython",
    "version": 3
   },
   "file_extension": ".py",
   "mimetype": "text/x-python",
   "name": "python",
   "nbconvert_exporter": "python",
   "pygments_lexer": "ipython3",
   "version": "3.8.12"
  },
  "orig_nbformat": 4
 },
 "nbformat": 4,
 "nbformat_minor": 2
}
