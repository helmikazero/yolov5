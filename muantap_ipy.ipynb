{
 "cells": [
  {
   "cell_type": "code",
   "execution_count": 1,
   "metadata": {},
   "outputs": [
    {
     "name": "stderr",
     "output_type": "stream",
     "text": [
      "c:\\Users\\helmi\\anaconda3\\envs\\yolov5a\\lib\\site-packages\\tqdm\\auto.py:22: TqdmWarning: IProgress not found. Please update jupyter and ipywidgets. See https://ipywidgets.readthedocs.io/en/stable/user_install.html\n",
      "  from .autonotebook import tqdm as notebook_tqdm\n"
     ]
    }
   ],
   "source": [
    "import cv2\n",
    "import torch\n",
    "import numpy as np"
   ]
  },
  {
   "cell_type": "code",
   "execution_count": 2,
   "metadata": {},
   "outputs": [
    {
     "name": "stderr",
     "output_type": "stream",
     "text": [
      "YOLOv5  v6.1-224-g3931687 Python-3.8.13 torch-1.11.0+cpu CPU\n",
      "\n",
      "Fusing layers... \n",
      "Model summary: 213 layers, 7015519 parameters, 0 gradients, 15.8 GFLOPs\n",
      "Adding AutoShape... \n"
     ]
    }
   ],
   "source": [
    "customyolov5s = torch.hub.load('','custom', path='weightHedect/nextgen_hedec_s2.pt', source='local')"
   ]
  },
  {
   "cell_type": "code",
   "execution_count": 3,
   "metadata": {},
   "outputs": [],
   "source": [
    "#colorcode\n",
    "clrYellow = (38,247,255)\n",
    "clrGreen = (0,255,0)\n",
    "clrRed = (255,0,0)"
   ]
  },
  {
   "cell_type": "code",
   "execution_count": 4,
   "metadata": {},
   "outputs": [],
   "source": [
    "ori_img = cv2.imread('test_image/constructon-worker-wellfare.jpg')\n",
    "\n",
    "cv2.imshow('This img',ori_img)\n",
    "cv2.waitKey(0)\n",
    "cv2.destroyAllWindows()"
   ]
  },
  {
   "cell_type": "code",
   "execution_count": 5,
   "metadata": {},
   "outputs": [
    {
     "name": "stdout",
     "output_type": "stream",
     "text": [
      "Setup complete. Using torch 1.11.0+cpu (CPU)\n",
      "cpu\n"
     ]
    }
   ],
   "source": [
    "device = 'cuda' if torch.cuda.is_available() else 'cpu'\n",
    "print(f\"Setup complete. Using torch {torch.__version__} ({torch.cuda.get_device_properties(0).name if torch.cuda.is_available() else 'CPU'})\")\n",
    "print(device)"
   ]
  },
  {
   "cell_type": "code",
   "execution_count": 6,
   "metadata": {},
   "outputs": [],
   "source": [
    "model = customyolov5s.to(device)"
   ]
  },
  {
   "cell_type": "code",
   "execution_count": 7,
   "metadata": {},
   "outputs": [],
   "source": [
    "img = ori_img\n",
    "results = model(img)"
   ]
  },
  {
   "cell_type": "code",
   "execution_count": 9,
   "metadata": {},
   "outputs": [
    {
     "name": "stdout",
     "output_type": "stream",
     "text": [
      "         xmin        ymin        xmax        ymax  confidence  class    name\n",
      "0   94.184029  132.789978  178.732758  228.621429    0.939074      0    head\n",
      "1   94.137985  132.941681  180.425995  179.959579    0.888721      1  helmet\n",
      "2  439.412872   37.721931  534.322083  131.212357    0.788271      1  helmet\n",
      "3  440.039520   37.660103  548.706299  143.153671    0.714847      0    head\n"
     ]
    }
   ],
   "source": [
    "print(results.pandas().xyxy[0])"
   ]
  },
  {
   "cell_type": "code",
   "execution_count": 8,
   "metadata": {},
   "outputs": [
    {
     "name": "stdout",
     "output_type": "stream",
     "text": [
      "         xmin        ymin        xmax        ymax  confidence  class    name\n",
      "0   94.184029  132.789978  178.732758  228.621429    0.939074      0    head\n",
      "1   94.137985  132.941681  180.425995  179.959579    0.888721      1  helmet\n",
      "2  439.412872   37.721931  534.322083  131.212357    0.788271      1  helmet\n",
      "3  440.039520   37.660103  548.706299  143.153671    0.714847      0    head\n",
      "xmin           440.03952\n",
      "ymin           37.660103\n",
      "xmax          548.706299\n",
      "ymax          143.153671\n",
      "confidence      0.714847\n",
      "class                  0\n",
      "name                head\n",
      "Name: 3, dtype: object\n"
     ]
    }
   ],
   "source": [
    "# print(results.pandas().xyxy[0])\n",
    "\n",
    "presults = results.pandas().xyxy[0]\n",
    "\n",
    "\n",
    "results_cpu = results.xyxyn[0].cpu().numpy()\n",
    "\n",
    "i = 0\n",
    "\n",
    "# print(presults.iloc[:,:-1])\n",
    "\n",
    "print(presults)\n",
    "print(presults.loc[3])\n",
    "\n",
    "\n",
    "# print(results_cpu)"
   ]
  },
  {
   "cell_type": "code",
   "execution_count": 9,
   "metadata": {},
   "outputs": [
    {
     "name": "stdout",
     "output_type": "stream",
     "text": [
      "[(136, 180), (137, 156), (486, 84), (494, 90)]\n",
      "         xmin        ymin        xmax        ymax  confidence  class    name  \\\n",
      "0   94.184029  132.789978  178.732758  228.621429    0.939074      0    head   \n",
      "1   94.137985  132.941681  180.425995  179.959579    0.888721      1  helmet   \n",
      "2  439.412872   37.721931  534.322083  131.212357    0.788271      1  helmet   \n",
      "3  440.039520   37.660103  548.706299  143.153671    0.714847      0    head   \n",
      "\n",
      "     xycenter  \n",
      "0  (136, 180)  \n",
      "1  (137, 156)  \n",
      "2   (486, 84)  \n",
      "3   (494, 90)  \n"
     ]
    }
   ],
   "source": [
    "#add center to dataframe of result\n",
    "\n",
    "\n",
    "newcol_xycenter = []\n",
    "\n",
    "for i in range(len(presults)):\n",
    "    newcol_xycenter.append((\n",
    "        int((presults[\"xmin\"][i]+presults[\"xmax\"][i])/2),int((presults[\"ymin\"][i]+presults[\"ymax\"][i])/2)\n",
    "    ))\n",
    "\n",
    "print(newcol_xycenter)\n",
    "\n",
    "presults2 = presults\n",
    "\n",
    "presults2[\"xycenter\"] = newcol_xycenter\n",
    "\n",
    "print(presults2)"
   ]
  },
  {
   "cell_type": "code",
   "execution_count": 10,
   "metadata": {},
   "outputs": [],
   "source": [
    "def bb_intersection_over_union(presults, nameA,nameB):\n",
    "\tboxA = [presults['xmin'][nameA],presults['ymin'][nameA],presults['xmax'][nameA],presults['ymax'][nameA]]\n",
    "\tboxB = [presults['xmin'][nameB],presults['ymin'][nameB],presults['xmax'][nameB],presults['ymax'][nameB]]\n",
    "\n",
    "\t# determine the (x, y)-coordinates of the intersection rectangle\n",
    "\txA = max(boxA[0], boxB[0])\n",
    "\tyA = max(boxA[1], boxB[1])\n",
    "\txB = min(boxA[2], boxB[2])\n",
    "\tyB = min(boxA[3], boxB[3])\n",
    "\t# compute the area of intersection rectangle\n",
    "\tinterArea = max(0, xB - xA + 1) * max(0, yB - yA + 1)\n",
    "\t# compute the area of both the prediction and ground-truth\n",
    "\t# rectangles\n",
    "\tboxAArea = (boxA[2] - boxA[0] + 1) * (boxA[3] - boxA[1] + 1)\n",
    "\tboxBArea = (boxB[2] - boxB[0] + 1) * (boxB[3] - boxB[1] + 1)\n",
    "\t# compute the intersection over union by taking the intersection\n",
    "\t# area and dividing it by the sum of prediction + ground-truth\n",
    "\t# areas - the interesection area\n",
    "\tiou = interArea / float(boxAArea + boxBArea - interArea)\n",
    "\t# return the intersection over union value\n",
    "\treturn iou\n",
    "\n",
    "def check_helmetWear(presults):\n",
    "    head_list = []\n",
    "    hardhat_list = []\n",
    "    pair_result = []\n",
    "    for i in range(len(presults)):\n",
    "        if presults['class'][i] == 0:\n",
    "            hardhat_list.append(i)\n",
    "        elif presults['class'][i] == 1:\n",
    "            head_list.append(i)\n",
    "\n",
    "\n",
    "    pair_result = []\n",
    "    for i in range(len(head_list)):\n",
    "        # hardhat_iou_scores = []\n",
    "        besthardhat = []\n",
    "        for j in range(len(hardhat_list)):\n",
    "            iou_result = bb_intersection_over_union(presults,head_list[i],hardhat_list[j])\n",
    "            \n",
    "            if len(besthardhat) == 0:\n",
    "                besthardhat = [hardhat_list[j],iou_result]\n",
    "                continue\n",
    "\n",
    "            if besthardhat[1] < iou_result:\n",
    "                besthardhat = [hardhat_list[j],iou_result]\n",
    "\n",
    "        pair_result.append([head_list[i],besthardhat[0],besthardhat[1]])\n",
    "\n",
    "    return pair_result\n",
    "\n",
    "\n",
    "def print_result(m_presults,m_pairResult,plain_img,wearTresh):\n",
    "    #colorCoding\n",
    "    no_helmet_detected = 0\n",
    "    printedimg = plain_img\n",
    "    \n",
    "    \n",
    "    # print helmet\n",
    "    for i in range(len(m_presults)):\n",
    "        if m_presults[\"class\"][i] == 1:\n",
    "            printedimg = cv2.rectangle(printedimg, (int(m_presults['xmin'][i]),int(m_presults['ymin'][i])),(int(m_presults['xmax'][i]),int(m_presults['ymax'][i])),clrYellow,1)\n",
    "            \n",
    "            \n",
    "    for i in range(len(m_pairResult)):\n",
    "        if m_pairResult[i][2] < wearTresh:\n",
    "            no_helmet_detected += 1\n",
    "            printedimg = cv2.rectangle(printedimg, (int(m_presults['xmin'][m_pairResult[i][0]]),int(m_presults['ymin'][m_pairResult[i][0]])),(int(m_presults['xmax'][m_pairResult[i][0]]),int(m_presults['ymax'][m_pairResult[i][0]])),clrRed,2)\n",
    "            printedimg = cv2.putText(printedimg,\"head\",(int(m_presults['xmin'][m_pairResult[i][0]]),int(m_presults['ymin'][m_pairResult[i][0]])),cv2.FONT_HERSHEY_SIMPLEX,0.9,clrRed,2)\n",
    "        else :\n",
    "            printedimg = cv2.rectangle(printedimg, (int(m_presults['xmin'][m_pairResult[i][0]]),int(m_presults['ymin'][m_pairResult[i][0]])),(int(m_presults['xmax'][m_pairResult[i][0]]),int(m_presults['ymax'][m_pairResult[i][0]])),clrGreen,2)\n",
    "            printedimg = cv2.putText(printedimg,\"head\",(int(m_presults['xmin'][m_pairResult[i][0]]),int(m_presults['ymin'][m_pairResult[i][0]])),cv2.FONT_HERSHEY_SIMPLEX,0.9,clrGreen,2)\n",
    "\n",
    "            printedimg = cv2.rectangle(printedimg, (int(m_presults['xmin'][m_pairResult[i][1]]),int(m_presults['ymin'][m_pairResult[i][1]])),(int(m_presults['xmax'][m_pairResult[i][1]]),int(m_presults['ymax'][m_pairResult[i][1]])),clrGreen,2)\n",
    "            printedimg = cv2.putText(printedimg,\"helmet\",(int(m_presults['xmin'][m_pairResult[i][1]]),int(m_presults['ymin'][m_pairResult[i][1]])),cv2.FONT_HERSHEY_SIMPLEX,0.9,clrGreen,2)\n",
    "            \n",
    "            printedimg = cv2.line(printedimg,m_presults['xycenter'][m_pairResult[i][0]],m_presults['xycenter'][m_pairResult[i][1]],clrGreen,2)\n",
    "    \n",
    "    return printedimg\n",
    "    \n",
    "            "
   ]
  },
  {
   "cell_type": "code",
   "execution_count": 12,
   "metadata": {},
   "outputs": [
    {
     "name": "stdout",
     "output_type": "stream",
     "text": [
      "0.4781444114541731\n",
      "0.0\n",
      "0.0\n",
      "0.9223915611187468\n"
     ]
    }
   ],
   "source": [
    "check_helmetWear(presults)"
   ]
  },
  {
   "cell_type": "code",
   "execution_count": 11,
   "metadata": {},
   "outputs": [
    {
     "name": "stdout",
     "output_type": "stream",
     "text": [
      "[[1, 0, 0.4909419179595239], [2, 3, 0.7670195416284188]]\n"
     ]
    }
   ],
   "source": [
    "pair_result = check_helmetWear(presults2)\n",
    "\n",
    "print(pair_result)\n",
    "\n",
    "img = ori_img\n",
    "\n",
    "printedimg = print_result(presults2,pair_result,img,0.1)\n",
    "\n"
   ]
  },
  {
   "cell_type": "code",
   "execution_count": 12,
   "metadata": {},
   "outputs": [],
   "source": [
    "cv2.imshow('This img',printedimg)\n",
    "cv2.waitKey(0)\n",
    "cv2.destroyAllWindows()"
   ]
  },
  {
   "cell_type": "code",
   "execution_count": 18,
   "metadata": {},
   "outputs": [],
   "source": [
    "# cv2.rectangle(img, (115,228),(281,415),(0, 255, 0),2)\n",
    "\n",
    "img = ori_img\n",
    "\n",
    "def printTheBoxYEAAAH(inimg,predresultinpandas):\n",
    "    printed_img = inimg\n",
    "    for i in range(len(predresultinpandas)):\n",
    "        printed_img = cv2.rectangle(printed_img, (int(predresultinpandas['xmin'][i]),int(predresultinpandas['ymin'][i])),(int(predresultinpandas['xmax'][i]),int(predresultinpandas['ymax'][i])),(0, 255, 0),2)\n",
    "        printed_img = cv2.putText(printed_img,predresultinpandas['name'][i],(int(predresultinpandas['xmin'][i]),int(predresultinpandas['ymin'][i])),cv2.FONT_HERSHEY_SIMPLEX,0.9,(0, 255, 0),2)\n",
    "\n",
    "    return printed_img\n",
    "    \n",
    "\n",
    "\n",
    "printedimg = printTheBoxYEAAAH(img,presults)\n",
    "\n",
    "cv2.imshow('This img',printedimg)\n",
    "cv2.waitKey(0)\n",
    "cv2.destroyAllWindows()"
   ]
  },
  {
   "cell_type": "code",
   "execution_count": 17,
   "metadata": {},
   "outputs": [],
   "source": [
    "cv2.imshow('This img',img)\n",
    "cv2.waitKey(0)\n",
    "cv2.destroyAllWindows()"
   ]
  }
 ],
 "metadata": {
  "interpreter": {
   "hash": "acc99ee7c5ceb6526f16e0238d59ca29b349e8ba3491361cd77be84b2c931a4d"
  },
  "kernelspec": {
   "display_name": "Python 3.8.13 ('yolov5a')",
   "language": "python",
   "name": "python3"
  },
  "language_info": {
   "codemirror_mode": {
    "name": "ipython",
    "version": 3
   },
   "file_extension": ".py",
   "mimetype": "text/x-python",
   "name": "python",
   "nbconvert_exporter": "python",
   "pygments_lexer": "ipython3",
   "version": "3.8.13"
  },
  "orig_nbformat": 4
 },
 "nbformat": 4,
 "nbformat_minor": 2
}
