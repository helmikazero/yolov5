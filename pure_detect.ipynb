{
 "cells": [
  {
   "cell_type": "code",
   "execution_count": 2,
   "metadata": {},
   "outputs": [],
   "source": [
    "import torch"
   ]
  },
  {
   "cell_type": "code",
   "execution_count": 3,
   "metadata": {},
   "outputs": [],
   "source": [
    "im = 'test_image\\hard_hat_workers43_png.rf.1ef7bacdf272ebe4a911dfbe1926fcb8.jpg'"
   ]
  },
  {
   "cell_type": "code",
   "execution_count": 4,
   "metadata": {},
   "outputs": [
    {
     "name": "stderr",
     "output_type": "stream",
     "text": [
      "Using cache found in C:\\Users\\helmi/.cache\\torch\\hub\\ultralytics_yolov5_master\n",
      "YOLOv5  2022-4-26 torch 1.10.0 CUDA:0 (NVIDIA GeForce GTX 1060 6GB, 6144MiB)\n",
      "\n",
      "Fusing layers... \n",
      "Model summary: 213 layers, 7015519 parameters, 0 gradients, 15.8 GFLOPs\n",
      "Adding AutoShape... \n"
     ]
    }
   ],
   "source": [
    "model = torch.hub.load('ultralytics/yolov5','custom', path='runs/train/HelmetDetection/weights/best.pt')"
   ]
  },
  {
   "cell_type": "code",
   "execution_count": 5,
   "metadata": {},
   "outputs": [],
   "source": [
    "results = model(im)"
   ]
  },
  {
   "cell_type": "code",
   "execution_count": 6,
   "metadata": {},
   "outputs": [
    {
     "name": "stdout",
     "output_type": "stream",
     "text": [
      "image 1/1: 216x216 2 heads, 5 helmets\n",
      "Speed: 33.0ms pre-process, 42.0ms inference, 40.0ms NMS per image at shape (1, 3, 640, 640)\n"
     ]
    }
   ],
   "source": [
    "results.print()\n",
    "\n",
    "resultpd = results.pandas()"
   ]
  },
  {
   "cell_type": "code",
   "execution_count": 7,
   "metadata": {},
   "outputs": [
    {
     "data": {
      "text/html": [
       "<div>\n",
       "<style scoped>\n",
       "    .dataframe tbody tr th:only-of-type {\n",
       "        vertical-align: middle;\n",
       "    }\n",
       "\n",
       "    .dataframe tbody tr th {\n",
       "        vertical-align: top;\n",
       "    }\n",
       "\n",
       "    .dataframe thead th {\n",
       "        text-align: right;\n",
       "    }\n",
       "</style>\n",
       "<table border=\"1\" class=\"dataframe\">\n",
       "  <thead>\n",
       "    <tr style=\"text-align: right;\">\n",
       "      <th></th>\n",
       "      <th>xcenter</th>\n",
       "      <th>ycenter</th>\n",
       "      <th>width</th>\n",
       "      <th>height</th>\n",
       "      <th>confidence</th>\n",
       "      <th>class</th>\n",
       "      <th>name</th>\n",
       "    </tr>\n",
       "  </thead>\n",
       "  <tbody>\n",
       "    <tr>\n",
       "      <th>0</th>\n",
       "      <td>197.251678</td>\n",
       "      <td>73.150040</td>\n",
       "      <td>24.638153</td>\n",
       "      <td>24.368172</td>\n",
       "      <td>0.882897</td>\n",
       "      <td>1</td>\n",
       "      <td>helmet</td>\n",
       "    </tr>\n",
       "    <tr>\n",
       "      <th>1</th>\n",
       "      <td>78.214912</td>\n",
       "      <td>76.624390</td>\n",
       "      <td>18.829330</td>\n",
       "      <td>21.229996</td>\n",
       "      <td>0.854032</td>\n",
       "      <td>1</td>\n",
       "      <td>helmet</td>\n",
       "    </tr>\n",
       "    <tr>\n",
       "      <th>2</th>\n",
       "      <td>164.395676</td>\n",
       "      <td>88.740112</td>\n",
       "      <td>26.197021</td>\n",
       "      <td>30.641350</td>\n",
       "      <td>0.846775</td>\n",
       "      <td>1</td>\n",
       "      <td>helmet</td>\n",
       "    </tr>\n",
       "    <tr>\n",
       "      <th>3</th>\n",
       "      <td>112.898224</td>\n",
       "      <td>4.440171</td>\n",
       "      <td>19.503105</td>\n",
       "      <td>8.880342</td>\n",
       "      <td>0.775656</td>\n",
       "      <td>0</td>\n",
       "      <td>head</td>\n",
       "    </tr>\n",
       "    <tr>\n",
       "      <th>4</th>\n",
       "      <td>112.937302</td>\n",
       "      <td>73.173309</td>\n",
       "      <td>18.084473</td>\n",
       "      <td>24.019661</td>\n",
       "      <td>0.767919</td>\n",
       "      <td>0</td>\n",
       "      <td>head</td>\n",
       "    </tr>\n",
       "    <tr>\n",
       "      <th>5</th>\n",
       "      <td>196.593353</td>\n",
       "      <td>5.073831</td>\n",
       "      <td>27.035843</td>\n",
       "      <td>9.940748</td>\n",
       "      <td>0.715749</td>\n",
       "      <td>1</td>\n",
       "      <td>helmet</td>\n",
       "    </tr>\n",
       "    <tr>\n",
       "      <th>6</th>\n",
       "      <td>133.405243</td>\n",
       "      <td>80.209671</td>\n",
       "      <td>13.886490</td>\n",
       "      <td>16.156227</td>\n",
       "      <td>0.666644</td>\n",
       "      <td>1</td>\n",
       "      <td>helmet</td>\n",
       "    </tr>\n",
       "  </tbody>\n",
       "</table>\n",
       "</div>"
      ],
      "text/plain": [
       "      xcenter    ycenter      width     height  confidence  class    name\n",
       "0  197.251678  73.150040  24.638153  24.368172    0.882897      1  helmet\n",
       "1   78.214912  76.624390  18.829330  21.229996    0.854032      1  helmet\n",
       "2  164.395676  88.740112  26.197021  30.641350    0.846775      1  helmet\n",
       "3  112.898224   4.440171  19.503105   8.880342    0.775656      0    head\n",
       "4  112.937302  73.173309  18.084473  24.019661    0.767919      0    head\n",
       "5  196.593353   5.073831  27.035843   9.940748    0.715749      1  helmet\n",
       "6  133.405243  80.209671  13.886490  16.156227    0.666644      1  helmet"
      ]
     },
     "execution_count": 7,
     "metadata": {},
     "output_type": "execute_result"
    }
   ],
   "source": [
    "resultpd.xywh[0]"
   ]
  }
 ],
 "metadata": {
  "interpreter": {
   "hash": "3b9f9b78bd4c9deebf1e907872d973f60033d1a46ec10b8cfcd4e1abc9b7aa8a"
  },
  "kernelspec": {
   "display_name": "Python 3.8.12 ('hardhat3')",
   "language": "python",
   "name": "python3"
  },
  "language_info": {
   "codemirror_mode": {
    "name": "ipython",
    "version": 3
   },
   "file_extension": ".py",
   "mimetype": "text/x-python",
   "name": "python",
   "nbconvert_exporter": "python",
   "pygments_lexer": "ipython3",
   "version": "3.8.12"
  },
  "orig_nbformat": 4
 },
 "nbformat": 4,
 "nbformat_minor": 2
}
