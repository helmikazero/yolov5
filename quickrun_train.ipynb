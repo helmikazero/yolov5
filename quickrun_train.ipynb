{
 "cells": [
  {
   "cell_type": "code",
   "execution_count": 1,
   "metadata": {},
   "outputs": [
    {
     "name": "stderr",
     "output_type": "stream",
     "text": [
      "\u001b[34m\u001b[1mexport: \u001b[0mdata=data\\coco128.yaml, weights=['runs\\\\train\\\\HelmetDetection_yolov5m\\\\weights\\\\best.pt'], imgsz=[640, 640], batch_size=1, device=cpu, half=False, inplace=False, train=False, optimize=False, int8=False, dynamic=True, simplify=False, opset=12, verbose=False, workspace=4, nms=False, agnostic_nms=False, topk_per_class=100, topk_all=100, iou_thres=0.45, conf_thres=0.25, include=['onnx']\n",
      "YOLOv5  v6.1-37-g7600bc5 torch 1.10.0 CPU\n",
      "\n",
      "Fusing layers... \n",
      "Model Summary: 290 layers, 20856975 parameters, 0 gradients, 48.0 GFLOPs\n",
      "\n",
      "\u001b[34m\u001b[1mPyTorch:\u001b[0m starting from runs\\train\\HelmetDetection_yolov5m\\weights\\best.pt with output shape (1, 25200, 7) (40.2 MB)\n",
      "\n",
      "\u001b[34m\u001b[1mONNX:\u001b[0m starting export with onnx 1.11.0...\n",
      "\u001b[34m\u001b[1mONNX:\u001b[0m export success, saved as runs\\train\\HelmetDetection_yolov5m\\weights\\best.onnx (79.6 MB)\n",
      "\n",
      "Export complete (7.51s)\n",
      "Results saved to \u001b[1mE:\\SKOOL\\yolov5_hardhatDetect\\runs\\train\\HelmetDetection_yolov5m\\weights\u001b[0m\n",
      "Detect:          python detect.py --weights runs\\train\\HelmetDetection_yolov5m\\weights\\best.onnx\n",
      "PyTorch Hub:     model = torch.hub.load('ultralytics/yolov5', 'custom', 'runs\\train\\HelmetDetection_yolov5m\\weights\\best.onnx')\n",
      "Validate:        python val.py --weights runs\\train\\HelmetDetection_yolov5m\\weights\\best.onnx\n",
      "Visualize:       https://netron.app\n"
     ]
    }
   ],
   "source": [
    "!python export.py --weights runs\\train\\HelmetDetection_yolov5m\\weights\\best.pt --include onnx --dynamic"
   ]
  },
  {
   "cell_type": "code",
   "execution_count": 3,
   "metadata": {},
   "outputs": [
    {
     "name": "stderr",
     "output_type": "stream",
     "text": [
      "\u001b[34m\u001b[1mexport: \u001b[0mdata=data\\coco128.yaml, weights=['runs\\\\train\\\\HelmetDetection_yolov5n\\\\weights\\\\best.pt'], imgsz=[640, 640], batch_size=1, device=cpu, half=False, inplace=False, train=False, optimize=False, int8=False, dynamic=True, simplify=False, opset=12, verbose=False, workspace=4, nms=False, agnostic_nms=False, topk_per_class=100, topk_all=100, iou_thres=0.45, conf_thres=0.25, include=['onnx']\n",
      "YOLOv5  v6.1-37-g7600bc5 torch 1.10.0 CPU\n",
      "\n",
      "Fusing layers... \n",
      "Model Summary: 213 layers, 1761871 parameters, 0 gradients, 4.2 GFLOPs\n",
      "\n",
      "\u001b[34m\u001b[1mPyTorch:\u001b[0m starting from runs\\train\\HelmetDetection_yolov5n\\weights\\best.pt with output shape (1, 25200, 7) (3.6 MB)\n",
      "\n",
      "\u001b[34m\u001b[1mONNX:\u001b[0m starting export with onnx 1.11.0...\n",
      "\u001b[34m\u001b[1mONNX:\u001b[0m export success, saved as runs\\train\\HelmetDetection_yolov5n\\weights\\best.onnx (6.8 MB)\n",
      "\n",
      "Export complete (3.74s)\n",
      "Results saved to \u001b[1mE:\\SKOOL\\yolov5_hardhatDetect\\runs\\train\\HelmetDetection_yolov5n\\weights\u001b[0m\n",
      "Detect:          python detect.py --weights runs\\train\\HelmetDetection_yolov5n\\weights\\best.onnx\n",
      "PyTorch Hub:     model = torch.hub.load('ultralytics/yolov5', 'custom', 'runs\\train\\HelmetDetection_yolov5n\\weights\\best.onnx')\n",
      "Validate:        python val.py --weights runs\\train\\HelmetDetection_yolov5n\\weights\\best.onnx\n",
      "Visualize:       https://netron.app\n"
     ]
    }
   ],
   "source": [
    "!python export.py --weights runs\\train\\HelmetDetection_yolov5n\\weights\\best.pt --include onnx --dynamic"
   ]
  },
  {
   "cell_type": "code",
   "execution_count": 4,
   "metadata": {},
   "outputs": [
    {
     "name": "stderr",
     "output_type": "stream",
     "text": [
      "\u001b[34m\u001b[1mexport: \u001b[0mdata=data\\coco128.yaml, weights=['runs\\\\train\\\\HelmetDetection\\\\weights\\\\best.pt'], imgsz=[640, 640], batch_size=1, device=cpu, half=False, inplace=False, train=False, optimize=False, int8=False, dynamic=True, simplify=False, opset=12, verbose=False, workspace=4, nms=False, agnostic_nms=False, topk_per_class=100, topk_all=100, iou_thres=0.45, conf_thres=0.25, include=['onnx']\n",
      "YOLOv5  v6.1-37-g7600bc5 torch 1.10.0 CPU\n",
      "\n",
      "Fusing layers... \n",
      "Model Summary: 213 layers, 7015519 parameters, 0 gradients, 15.8 GFLOPs\n",
      "\n",
      "\u001b[34m\u001b[1mPyTorch:\u001b[0m starting from runs\\train\\HelmetDetection\\weights\\best.pt with output shape (1, 25200, 7) (13.7 MB)\n",
      "\n",
      "\u001b[34m\u001b[1mONNX:\u001b[0m starting export with onnx 1.11.0...\n",
      "\u001b[34m\u001b[1mONNX:\u001b[0m export success, saved as runs\\train\\HelmetDetection\\weights\\best.onnx (26.8 MB)\n",
      "\n",
      "Export complete (4.33s)\n",
      "Results saved to \u001b[1mE:\\SKOOL\\yolov5_hardhatDetect\\runs\\train\\HelmetDetection\\weights\u001b[0m\n",
      "Detect:          python detect.py --weights runs\\train\\HelmetDetection\\weights\\best.onnx\n",
      "PyTorch Hub:     model = torch.hub.load('ultralytics/yolov5', 'custom', 'runs\\train\\HelmetDetection\\weights\\best.onnx')\n",
      "Validate:        python val.py --weights runs\\train\\HelmetDetection\\weights\\best.onnx\n",
      "Visualize:       https://netron.app\n"
     ]
    }
   ],
   "source": [
    "!python export.py --weights runs\\train\\HelmetDetection\\weights\\best.pt --include onnx --dynamic"
   ]
  }
 ],
 "metadata": {
  "interpreter": {
   "hash": "3b9f9b78bd4c9deebf1e907872d973f60033d1a46ec10b8cfcd4e1abc9b7aa8a"
  },
  "kernelspec": {
   "display_name": "Python 3.8.12 ('hardhat3')",
   "language": "python",
   "name": "python3"
  },
  "language_info": {
   "codemirror_mode": {
    "name": "ipython",
    "version": 3
   },
   "file_extension": ".py",
   "mimetype": "text/x-python",
   "name": "python",
   "nbconvert_exporter": "python",
   "pygments_lexer": "ipython3",
   "version": "3.8.12"
  },
  "orig_nbformat": 4
 },
 "nbformat": 4,
 "nbformat_minor": 2
}
